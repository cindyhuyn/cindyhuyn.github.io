{
 "cells": [
  {
   "cell_type": "code",
   "execution_count": 11,
   "metadata": {},
   "outputs": [
    {
     "data": {
      "text/html": [
       "<center>Photo Credit: <a href=\"https://pixabay.com/illustrations/police-crime-scene-blue-light-2167968/\">pixabay</a><BR><img src=\"img/police-2167968_1280.jpg\" align=\"center\"></center>\n"
      ],
      "text/plain": [
       "<IPython.core.display.HTML object>"
      ]
     },
     "metadata": {},
     "output_type": "display_data"
    }
   ],
   "source": [
    "%%html\n",
    "<center>Photo Credit: <a href=\"https://pixabay.com/illustrations/police-crime-scene-blue-light-2167968/\">pixabay</a><BR><img src=\"img/police-2167968_1280.jpg\" align=\"center\"></center>"
   ]
  },
  {
   "cell_type": "markdown",
   "metadata": {},
   "source": [
    "<h1><strong><center>CMSC320 Final Project<BR>Predicting the Crime 'Theft From Auto' in Washington, DC<center></strong></h1>\n",
    "    <center><i>Group members: Leo Wu, Kevin Nguyen, Cindy Huynh<BR>Spring 2020 - Hector Corada Bravo</i></center>"
   ]
  },
  {
   "cell_type": "markdown",
   "metadata": {},
   "source": [
    "# Introduction\n",
    "\n",
    "Crime culture is different in different areas. \n",
    "In the past, Chicago and Los Angeles have been known for gangs (ChicagoMag, 2012).\n",
    "Currently, Baltimore, Maryland, is considered the deadliest US city with 348 killings by the end of 2019, which is not the final value yet (Kennedy, 2020).\n",
    "Therefore, due to the proximity of Washington, DC to the University of Maryland, we wanted to examine crime in Washington, DC.\n",
    "According to the Patch, DC was ranked America's 16th most dangerous city in 2017 (2018).\n",
    "\n",
    "At DC Atlas, we noticed that Theft From Auto appeared to be significant, in regards to Property Crime (2020). \n",
    "According to City of Cincinnati, Ohio, \"Theft from Auto\" is a crime of opportunity and is preventable (2020).\n",
    "\n",
    "The question we are interested in is, what are the trends of crime in DC, and would we be able to predict 'Theft from Auto' crime in DC with data for ten years of data 2010-2019?\n",
    "\n",
    "References:\n",
    "How to Prevent Theft From Autos. (2020, May 17). City of Cincinnati. https://www.cincinnati-oh.gov/police/community-involvement/how-to-prevent-theft-from-autos/ \n",
    "Moser, W. (2012, Jan 27). Why Are There So Many Gang Members in Chicago? Chicago Magazine. https://www.chicagomag.com/Chicago-Magazine/The-312/January-2012/Why-Are-There-So-Many-Gang-Members-in-Chicago/\n",
    "Kennedy, S. (2020, Feb 7). 'The Wire' Is Finished, but Baltimore Still Bleeds. Wall Street Journal. https://www.wsj.com/articles/the-wire-is-finished-but-baltimore-still-bleeds-11581119104\n",
    "DC Atlas. (2020). Crime Cards. Metropolitan Police Department. https://dcatlas.dcgis.dc.gov/crimecards/ \n",
    "Taylor, D. (2018, Feb 20). The Patch. https://patch.com/district-columbia/washingtondc/dc-americas-16th-most-dangerous-city \n",
    "    \n",
    "Interesting Links:\n",
    "Grawert A., and Kimble, C. (2019, Dec 18). Takeaways from 2019 Crime Data in Major American Cities https://www.brennancenter.org/our-work/analysis-opinion/takeaways-2019-crime-data-major-american-cities\n",
    "Madhani, A. (2018, Feb 19). USA Today. Baltimore is the nation's most dangerous big city. https://www.usatoday.com/story/news/2018/02/19/homicides-toll-big-u-s-cities-2017/302763002/\n",
    "Best Places. (2020). 2020 Compare Crime Rates: Washington, DC vs Baltimore, MD. https://www.bestplaces.net/crime/?city1=51150000&city2=52404000 \n",
    "The Disaster Center. (2007). US States Crime 2004 -2005 Crimes per 100,000 and Ranking. http://www.disastercenter.com/crime/US_States_Rate_Ranking.html   \n"
   ]
  },
  {
   "cell_type": "code",
   "execution_count": 1,
   "metadata": {},
   "outputs": [
    {
     "ename": "ModuleNotFoundError",
     "evalue": "No module named 'ipyleaflet'",
     "output_type": "error",
     "traceback": [
      "\u001b[1;31m---------------------------------------------------------------------------\u001b[0m",
      "\u001b[1;31mModuleNotFoundError\u001b[0m                       Traceback (most recent call last)",
      "\u001b[1;32m<ipython-input-1-beb845bb729e>\u001b[0m in \u001b[0;36m<module>\u001b[1;34m\u001b[0m\n\u001b[0;32m      1\u001b[0m \u001b[1;31m#Importing required libraries\u001b[0m\u001b[1;33m\u001b[0m\u001b[1;33m\u001b[0m\u001b[1;33m\u001b[0m\u001b[0m\n\u001b[1;32m----> 2\u001b[1;33m \u001b[1;32mfrom\u001b[0m \u001b[0mipyleaflet\u001b[0m \u001b[1;32mimport\u001b[0m \u001b[1;33m*\u001b[0m\u001b[1;33m\u001b[0m\u001b[1;33m\u001b[0m\u001b[0m\n\u001b[0m\u001b[0;32m      3\u001b[0m \u001b[1;32mimport\u001b[0m \u001b[0mwarnings\u001b[0m\u001b[1;33m\u001b[0m\u001b[1;33m\u001b[0m\u001b[0m\n\u001b[0;32m      4\u001b[0m \u001b[1;32mimport\u001b[0m \u001b[0mpandas\u001b[0m \u001b[1;32mas\u001b[0m \u001b[0mpd\u001b[0m\u001b[1;33m\u001b[0m\u001b[1;33m\u001b[0m\u001b[0m\n\u001b[0;32m      5\u001b[0m \u001b[1;32mimport\u001b[0m \u001b[0msklearn\u001b[0m\u001b[1;33m.\u001b[0m\u001b[0mensemble\u001b[0m\u001b[1;33m\u001b[0m\u001b[1;33m\u001b[0m\u001b[0m\n",
      "\u001b[1;31mModuleNotFoundError\u001b[0m: No module named 'ipyleaflet'"
     ]
    }
   ],
   "source": [
    "#Importing required libraries\n",
    "from ipyleaflet import *\n",
    "import warnings\n",
    "import pandas as pd\n",
    "import sklearn.ensemble\n",
    "from sklearn import neighbors\n",
    "from sklearn.model_selection import KFold\n",
    "import sklearn.metrics\n",
    "import matplotlib.pylab as plt\n",
    "import numpy as np\n",
    "import seaborn as sns\n",
    "import statsmodels.formula.api as smf\n",
    "warnings.filterwarnings('ignore')\n"
   ]
  },
  {
   "cell_type": "markdown",
   "metadata": {},
   "source": [
    "# Data Curation\n",
    "<span style=\"font-family: Arial\">\n",
    "The data was obtained from Open Data DC site at https://opendata.dc.gov/datasets/crime-incidents-in-2010 through https://opendata.dc.gov/datasets/crime-incidents-in-2019. \n",
    "Spreadsheets were downloaded from the site and combined into one spreadsheet for ten years of data from 2010 to 2019.\n",
    "Approximately 33,000 to 38,000 entities/observations were obtained from each year, totalling approximately 350,000 observation in total (349,343 to be exact).<BR><BR>\n",
    "We dropped any unnecessary columns of data, leaving only the latitude as X, longitude as Y, report date (date the police officer recorded the report), start date (the date the crime started), end date (date the crime supposedly ended), and offense (theft from auto).<BR><BR>\n",
    "To tidy our data, we then dropped any entities/observations with missing data in any fields. We converted any date/time fields to datetime objects in python. Examples and usage can be found at <a href=\"https://pandas.pydata.org/pandas-docs/stable/reference/api/pandas.to_datetime.html\">https://pandas.pydata.org/pandas-docs/stable/reference/api/pandas.to_datetime.html</a> and <a href=\"https://colab.research.google.com/github/gal-a/blog/blob/master/docs/notebooks/pandas/pandas_datetime.ipynb\">https://colab.research.google.com/github/gal-a/blog/blob/master/docs/notebooks/pandas/pandas_datetime.ipynb</a>. \n",
    "We removed entities/observations that had dates prior to 2010. <BR><BR>\n",
    "The report dates would report crime that did not necessarily start in 2010, so we dropped that data, as those were not a significant amount of entities. \n",
    "Of that data, we chose to filter out only the data pertaining to \"THEFT F/AUTO\" which is a sizeable amount of data from our dataset.<BR><BR>\n",
    "Our entire dataset is saved in df dataframe, in order to make our predictions for the year 2020.<BR>\n",
    "\n",
    "We then chose to sample 1000 observations from the dataset for df2."
   ]
  },
  {
   "cell_type": "code",
   "execution_count": 25,
   "metadata": {},
   "outputs": [
    {
     "data": {
      "text/html": [
       "<div>\n",
       "<style scoped>\n",
       "    .dataframe tbody tr th:only-of-type {\n",
       "        vertical-align: middle;\n",
       "    }\n",
       "\n",
       "    .dataframe tbody tr th {\n",
       "        vertical-align: top;\n",
       "    }\n",
       "\n",
       "    .dataframe thead th {\n",
       "        text-align: right;\n",
       "    }\n",
       "</style>\n",
       "<table border=\"1\" class=\"dataframe\">\n",
       "  <thead>\n",
       "    <tr style=\"text-align: right;\">\n",
       "      <th></th>\n",
       "      <th>X</th>\n",
       "      <th>Y</th>\n",
       "      <th>REPORT_DAT</th>\n",
       "      <th>START_DATE</th>\n",
       "      <th>END_DATE</th>\n",
       "      <th>OFFENSE</th>\n",
       "    </tr>\n",
       "  </thead>\n",
       "  <tbody>\n",
       "    <tr>\n",
       "      <th>254958</th>\n",
       "      <td>-77.030325</td>\n",
       "      <td>38.907244</td>\n",
       "      <td>2017-01-12 13:33:22+00:00</td>\n",
       "      <td>2017-01-12 10:17:06+00:00</td>\n",
       "      <td>2017-01-12 11:46:56+00:00</td>\n",
       "      <td>THEFT F/AUTO</td>\n",
       "    </tr>\n",
       "    <tr>\n",
       "      <th>124584</th>\n",
       "      <td>-76.990520</td>\n",
       "      <td>38.857467</td>\n",
       "      <td>2013-10-23 06:18:00+00:00</td>\n",
       "      <td>2013-10-22 00:01:00+00:00</td>\n",
       "      <td>2013-10-22 07:25:00+00:00</td>\n",
       "      <td>THEFT F/AUTO</td>\n",
       "    </tr>\n",
       "    <tr>\n",
       "      <th>163306</th>\n",
       "      <td>-77.040820</td>\n",
       "      <td>38.913357</td>\n",
       "      <td>2014-11-23 15:00:00+00:00</td>\n",
       "      <td>2014-11-20 00:01:00+00:00</td>\n",
       "      <td>2014-11-21 08:15:00+00:00</td>\n",
       "      <td>THEFT F/AUTO</td>\n",
       "    </tr>\n",
       "    <tr>\n",
       "      <th>107693</th>\n",
       "      <td>-77.001317</td>\n",
       "      <td>38.914085</td>\n",
       "      <td>2013-04-14 06:59:00+00:00</td>\n",
       "      <td>2013-04-13 17:00:00+00:00</td>\n",
       "      <td>2013-04-14 06:55:00+00:00</td>\n",
       "      <td>THEFT F/AUTO</td>\n",
       "    </tr>\n",
       "    <tr>\n",
       "      <th>34849</th>\n",
       "      <td>-77.034537</td>\n",
       "      <td>38.964193</td>\n",
       "      <td>2011-02-13 15:20:00+00:00</td>\n",
       "      <td>2011-02-12 17:00:00+00:00</td>\n",
       "      <td>2011-02-13 13:00:00+00:00</td>\n",
       "      <td>THEFT F/AUTO</td>\n",
       "    </tr>\n",
       "  </tbody>\n",
       "</table>\n",
       "</div>"
      ],
      "text/plain": [
       "                X          Y                REPORT_DAT  \\\n",
       "254958 -77.030325  38.907244 2017-01-12 13:33:22+00:00   \n",
       "124584 -76.990520  38.857467 2013-10-23 06:18:00+00:00   \n",
       "163306 -77.040820  38.913357 2014-11-23 15:00:00+00:00   \n",
       "107693 -77.001317  38.914085 2013-04-14 06:59:00+00:00   \n",
       "34849  -77.034537  38.964193 2011-02-13 15:20:00+00:00   \n",
       "\n",
       "                      START_DATE                  END_DATE       OFFENSE  \n",
       "254958 2017-01-12 10:17:06+00:00 2017-01-12 11:46:56+00:00  THEFT F/AUTO  \n",
       "124584 2013-10-22 00:01:00+00:00 2013-10-22 07:25:00+00:00  THEFT F/AUTO  \n",
       "163306 2014-11-20 00:01:00+00:00 2014-11-21 08:15:00+00:00  THEFT F/AUTO  \n",
       "107693 2013-04-13 17:00:00+00:00 2013-04-14 06:55:00+00:00  THEFT F/AUTO  \n",
       "34849  2011-02-12 17:00:00+00:00 2011-02-13 13:00:00+00:00  THEFT F/AUTO  "
      ]
     },
     "execution_count": 25,
     "metadata": {},
     "output_type": "execute_result"
    }
   ],
   "source": [
    "#read the CSV file, filter for TFA offenses, drop unnecessary columns, then drop rows with fields that contain NA in any fields\n",
    "df = (pd.read_csv(\"./Crime_Incidents_in_2010_to_2019.csv\")\n",
    "        .query('OFFENSE == \"THEFT F/AUTO\"')\n",
    "        .drop(columns = ['BID','LONGITUDE','LATITUDE','VOTING_PRECINCT', 'OBJECTID',\n",
    "                        'OCTO_RECORD_ID','CCN','SHIFT','BLOCK','XBLOCK','YBLOCK','WARD',\n",
    "                        'ANC','DISTRICT','PSA','METHOD','NEIGHBORHOOD_CLUSTER','BLOCK_GROUP',\n",
    "                        'CENSUS_TRACT'])\n",
    "        .dropna())\n",
    "\n",
    "#converting date/time text to datetime objects\n",
    "df['START_DATE'] = pd.to_datetime(df.START_DATE, format=\"%Y-%m\")\n",
    "df['END_DATE'] = pd.to_datetime(df.END_DATE, format=\"%Y-%m\")\n",
    "df['REPORT_DAT'] = pd.to_datetime(df.REPORT_DAT, format=\"%Y-%m\")\n",
    "df #entire dataset for prediction task\n",
    "\n",
    "#sample size of 1000 for mapping\n",
    "df2 = df.sample(n=1000) \n",
    "#display the dataframe\n",
    "df.head()"
   ]
  },
  {
   "cell_type": "markdown",
   "metadata": {},
   "source": [
    "<strong>Map Title:</strong> Theft From Auto Crime from 2010-2019 in DC<BR>\n",
    "<strong>Description:</strong> The data can be plotted on to a map, especially if it has geographical coordinates, longitude and latitude. This map shows each theft from automobile crime that was taken in the sample from the dataframe. This is the geographical map with data points for a sample size of 1000 from data containing observations for theft from auto crimes from 2010-2019. The the sample dataset was used to plot the points in the map below using the python map module. See <a href=\"https://docs.python.org/3/library/functions.html#map\">https://docs.python.org/3/library/functions.html#map</a> for more information. "
   ]
  },
  {
   "cell_type": "code",
   "execution_count": 55,
   "metadata": {},
   "outputs": [
    {
     "data": {
      "application/vnd.jupyter.widget-view+json": {
       "model_id": "45a350dbb79f4fccbd8ed54261360493",
       "version_major": 2,
       "version_minor": 0
      },
      "text/plain": [
       "Map(center=[38.9072, -77.0369], controls=(ZoomControl(options=['position', 'zoom_in_text', 'zoom_in_title', 'z…"
      ]
     },
     "metadata": {},
     "output_type": "display_data"
    }
   ],
   "source": [
    "m = Map(center = (38.8951, -77.0364), zoom = 11)\n",
    "for i in df2.iterrows():\n",
    "    data = i[1]\n",
    "    circle = Circle()\n",
    "    circle.location = (data[1], data[0])\n",
    "    circle.radius = 1\n",
    "    circle.color = \"green\"\n",
    "    circle.fill_color = \"green\"\n",
    "    \n",
    "    m.add_layer(circle)\n",
    "m"
   ]
  },
  {
   "cell_type": "markdown",
   "metadata": {},
   "source": [
    "## Prediction task - Machine Learning\n",
    "> Can we predict the number of theft from automobiles in 2020?\n"
   ]
  },
  {
   "cell_type": "code",
   "execution_count": 56,
   "metadata": {},
   "outputs": [
    {
     "data": {
      "text/html": [
       "<div>\n",
       "<style scoped>\n",
       "    .dataframe tbody tr th:only-of-type {\n",
       "        vertical-align: middle;\n",
       "    }\n",
       "\n",
       "    .dataframe tbody tr th {\n",
       "        vertical-align: top;\n",
       "    }\n",
       "\n",
       "    .dataframe thead th {\n",
       "        text-align: right;\n",
       "    }\n",
       "</style>\n",
       "<table border=\"1\" class=\"dataframe\">\n",
       "  <thead>\n",
       "    <tr style=\"text-align: right;\">\n",
       "      <th></th>\n",
       "      <th># of Theft From Auto</th>\n",
       "    </tr>\n",
       "  </thead>\n",
       "  <tbody>\n",
       "    <tr>\n",
       "      <th>2010</th>\n",
       "      <td>85</td>\n",
       "    </tr>\n",
       "    <tr>\n",
       "      <th>2011</th>\n",
       "      <td>103</td>\n",
       "    </tr>\n",
       "    <tr>\n",
       "      <th>2012</th>\n",
       "      <td>99</td>\n",
       "    </tr>\n",
       "    <tr>\n",
       "      <th>2013</th>\n",
       "      <td>118</td>\n",
       "    </tr>\n",
       "    <tr>\n",
       "      <th>2014</th>\n",
       "      <td>120</td>\n",
       "    </tr>\n",
       "    <tr>\n",
       "      <th>2015</th>\n",
       "      <td>128</td>\n",
       "    </tr>\n",
       "    <tr>\n",
       "      <th>2016</th>\n",
       "      <td>123</td>\n",
       "    </tr>\n",
       "    <tr>\n",
       "      <th>2017</th>\n",
       "      <td>102</td>\n",
       "    </tr>\n",
       "    <tr>\n",
       "      <th>2019</th>\n",
       "      <td>120</td>\n",
       "    </tr>\n",
       "  </tbody>\n",
       "</table>\n",
       "</div>"
      ],
      "text/plain": [
       "      # of Theft From Auto\n",
       "2010                    85\n",
       "2011                   103\n",
       "2012                    99\n",
       "2013                   118\n",
       "2014                   120\n",
       "2015                   128\n",
       "2016                   123\n",
       "2017                   102\n",
       "2019                   120"
      ]
     },
     "execution_count": 56,
     "metadata": {},
     "output_type": "execute_result"
    }
   ],
   "source": [
    "#We create another dataframe that shows how much TFA occurred each year\n",
    "tmp = pd.DataFrame(columns = ['# of Theft From Auto'], \n",
    "                   index = ['2010', '2011','2012','2013','2014',\n",
    "                            '2015','2016','2017','2019'])\n",
    "# any NA values will be marked as 0 instead\n",
    "tmp = tmp.fillna(0)\n",
    "\n",
    "#interate through all rows to see if the year matches\n",
    "for i in df.iterrows():\n",
    "    datetime = i[1][3].to_pydatetime() #uses matching start date\n",
    "    for j in tmp.iterrows():\n",
    "        if str(datetime.year) == j[0]:\n",
    "            tmp['# of Theft From Auto'][j[0]] += 1\n",
    "tmp"
   ]
  },
  {
   "cell_type": "markdown",
   "metadata": {},
   "source": [
    "The data gathered from the 2018 csv file was incomplete, with only crimes recorded in June on it. With it, the data would've had a strange divot in its trend over time. Therefore, we chose to exclude it from our data."
   ]
  },
  {
   "cell_type": "code",
   "execution_count": 62,
   "metadata": {},
   "outputs": [
    {
     "data": {
      "text/plain": [
       "<matplotlib.axes._subplots.AxesSubplot at 0x11021b390>"
      ]
     },
     "execution_count": 62,
     "metadata": {},
     "output_type": "execute_result"
    },
    {
     "data": {
      "image/png": "[encoded data removed]",
      "text/plain": [
       "<Figure size 432x288 with 1 Axes>"
      ]
     },
     "metadata": {
      "needs_background": "light"
     },
     "output_type": "display_data"
    }
   ],
   "source": [
    "g = sns.barplot(x = tmp.index, y = tmp['# of Theft From Auto'], color = 'grey')\n",
    "g"
   ]
  },
  {
   "cell_type": "markdown",
   "metadata": {},
   "source": [
    "The barplot above indicates the frequency of theft from cars from the years 2010-2019.\n"
   ]
  },
  {
   "cell_type": "code",
   "execution_count": 121,
   "metadata": {
    "scrolled": true
   },
   "outputs": [
    {
     "data": {
      "text/html": [
       "<div>\n",
       "<style scoped>\n",
       "    .dataframe tbody tr th:only-of-type {\n",
       "        vertical-align: middle;\n",
       "    }\n",
       "\n",
       "    .dataframe tbody tr th {\n",
       "        vertical-align: top;\n",
       "    }\n",
       "\n",
       "    .dataframe thead th {\n",
       "        text-align: right;\n",
       "    }\n",
       "</style>\n",
       "<table border=\"1\" class=\"dataframe\">\n",
       "  <thead>\n",
       "    <tr style=\"text-align: right;\">\n",
       "      <th></th>\n",
       "      <th>X</th>\n",
       "      <th>Y</th>\n",
       "      <th>REPORT_DAT</th>\n",
       "      <th>START_DATE</th>\n",
       "      <th>END_DATE</th>\n",
       "      <th>OFFENSE</th>\n",
       "      <th>YEAR</th>\n",
       "    </tr>\n",
       "  </thead>\n",
       "  <tbody>\n",
       "    <tr>\n",
       "      <th>254958</th>\n",
       "      <td>-77.030325</td>\n",
       "      <td>38.907244</td>\n",
       "      <td>2017-01-12 13:33:22+00:00</td>\n",
       "      <td>2017-01-12 10:17:06+00:00</td>\n",
       "      <td>2017-01-12 11:46:56+00:00</td>\n",
       "      <td>THEFT F/AUTO</td>\n",
       "      <td>2017</td>\n",
       "    </tr>\n",
       "    <tr>\n",
       "      <th>124584</th>\n",
       "      <td>-76.990520</td>\n",
       "      <td>38.857467</td>\n",
       "      <td>2013-10-23 06:18:00+00:00</td>\n",
       "      <td>2013-10-22 00:01:00+00:00</td>\n",
       "      <td>2013-10-22 07:25:00+00:00</td>\n",
       "      <td>THEFT F/AUTO</td>\n",
       "      <td>2013</td>\n",
       "    </tr>\n",
       "    <tr>\n",
       "      <th>163306</th>\n",
       "      <td>-77.040820</td>\n",
       "      <td>38.913357</td>\n",
       "      <td>2014-11-23 15:00:00+00:00</td>\n",
       "      <td>2014-11-20 00:01:00+00:00</td>\n",
       "      <td>2014-11-21 08:15:00+00:00</td>\n",
       "      <td>THEFT F/AUTO</td>\n",
       "      <td>2014</td>\n",
       "    </tr>\n",
       "    <tr>\n",
       "      <th>107693</th>\n",
       "      <td>-77.001317</td>\n",
       "      <td>38.914085</td>\n",
       "      <td>2013-04-14 06:59:00+00:00</td>\n",
       "      <td>2013-04-13 17:00:00+00:00</td>\n",
       "      <td>2013-04-14 06:55:00+00:00</td>\n",
       "      <td>THEFT F/AUTO</td>\n",
       "      <td>2013</td>\n",
       "    </tr>\n",
       "    <tr>\n",
       "      <th>34849</th>\n",
       "      <td>-77.034537</td>\n",
       "      <td>38.964193</td>\n",
       "      <td>2011-02-13 15:20:00+00:00</td>\n",
       "      <td>2011-02-12 17:00:00+00:00</td>\n",
       "      <td>2011-02-13 13:00:00+00:00</td>\n",
       "      <td>THEFT F/AUTO</td>\n",
       "      <td>2011</td>\n",
       "    </tr>\n",
       "    <tr>\n",
       "      <th>...</th>\n",
       "      <td>...</td>\n",
       "      <td>...</td>\n",
       "      <td>...</td>\n",
       "      <td>...</td>\n",
       "      <td>...</td>\n",
       "      <td>...</td>\n",
       "      <td>...</td>\n",
       "    </tr>\n",
       "    <tr>\n",
       "      <th>294262</th>\n",
       "      <td>-76.999518</td>\n",
       "      <td>38.899564</td>\n",
       "      <td>2019-01-25 23:35:12+00:00</td>\n",
       "      <td>2019-01-25 22:00:02+00:00</td>\n",
       "      <td>2019-01-25 22:16:14+00:00</td>\n",
       "      <td>THEFT F/AUTO</td>\n",
       "      <td>2019</td>\n",
       "    </tr>\n",
       "    <tr>\n",
       "      <th>61606</th>\n",
       "      <td>-76.973985</td>\n",
       "      <td>38.863536</td>\n",
       "      <td>2011-11-27 02:16:00+00:00</td>\n",
       "      <td>2011-11-26 17:00:00+00:00</td>\n",
       "      <td>2011-11-27 15:25:00+00:00</td>\n",
       "      <td>THEFT F/AUTO</td>\n",
       "      <td>2011</td>\n",
       "    </tr>\n",
       "    <tr>\n",
       "      <th>224007</th>\n",
       "      <td>-76.980738</td>\n",
       "      <td>38.904201</td>\n",
       "      <td>2016-06-23 21:11:59+00:00</td>\n",
       "      <td>2016-06-22 08:00:02+00:00</td>\n",
       "      <td>2016-06-22 16:30:40+00:00</td>\n",
       "      <td>THEFT F/AUTO</td>\n",
       "      <td>2016</td>\n",
       "    </tr>\n",
       "    <tr>\n",
       "      <th>77373</th>\n",
       "      <td>-76.967102</td>\n",
       "      <td>38.872939</td>\n",
       "      <td>2012-06-12 14:00:00+00:00</td>\n",
       "      <td>2012-06-12 12:00:00+00:00</td>\n",
       "      <td>2012-06-12 14:00:00+00:00</td>\n",
       "      <td>THEFT F/AUTO</td>\n",
       "      <td>2012</td>\n",
       "    </tr>\n",
       "    <tr>\n",
       "      <th>133989</th>\n",
       "      <td>-77.039068</td>\n",
       "      <td>38.914322</td>\n",
       "      <td>2013-11-22 07:42:00+00:00</td>\n",
       "      <td>2013-11-21 23:30:00+00:00</td>\n",
       "      <td>2013-11-22 07:30:00+00:00</td>\n",
       "      <td>THEFT F/AUTO</td>\n",
       "      <td>2013</td>\n",
       "    </tr>\n",
       "  </tbody>\n",
       "</table>\n",
       "<p>1000 rows × 7 columns</p>\n",
       "</div>"
      ],
      "text/plain": [
       "                X          Y                REPORT_DAT  \\\n",
       "254958 -77.030325  38.907244 2017-01-12 13:33:22+00:00   \n",
       "124584 -76.990520  38.857467 2013-10-23 06:18:00+00:00   \n",
       "163306 -77.040820  38.913357 2014-11-23 15:00:00+00:00   \n",
       "107693 -77.001317  38.914085 2013-04-14 06:59:00+00:00   \n",
       "34849  -77.034537  38.964193 2011-02-13 15:20:00+00:00   \n",
       "...           ...        ...                       ...   \n",
       "294262 -76.999518  38.899564 2019-01-25 23:35:12+00:00   \n",
       "61606  -76.973985  38.863536 2011-11-27 02:16:00+00:00   \n",
       "224007 -76.980738  38.904201 2016-06-23 21:11:59+00:00   \n",
       "77373  -76.967102  38.872939 2012-06-12 14:00:00+00:00   \n",
       "133989 -77.039068  38.914322 2013-11-22 07:42:00+00:00   \n",
       "\n",
       "                      START_DATE                  END_DATE       OFFENSE  YEAR  \n",
       "254958 2017-01-12 10:17:06+00:00 2017-01-12 11:46:56+00:00  THEFT F/AUTO  2017  \n",
       "124584 2013-10-22 00:01:00+00:00 2013-10-22 07:25:00+00:00  THEFT F/AUTO  2013  \n",
       "163306 2014-11-20 00:01:00+00:00 2014-11-21 08:15:00+00:00  THEFT F/AUTO  2014  \n",
       "107693 2013-04-13 17:00:00+00:00 2013-04-14 06:55:00+00:00  THEFT F/AUTO  2013  \n",
       "34849  2011-02-12 17:00:00+00:00 2011-02-13 13:00:00+00:00  THEFT F/AUTO  2011  \n",
       "...                          ...                       ...           ...   ...  \n",
       "294262 2019-01-25 22:00:02+00:00 2019-01-25 22:16:14+00:00  THEFT F/AUTO  2019  \n",
       "61606  2011-11-26 17:00:00+00:00 2011-11-27 15:25:00+00:00  THEFT F/AUTO  2011  \n",
       "224007 2016-06-22 08:00:02+00:00 2016-06-22 16:30:40+00:00  THEFT F/AUTO  2016  \n",
       "77373  2012-06-12 12:00:00+00:00 2012-06-12 14:00:00+00:00  THEFT F/AUTO  2012  \n",
       "133989 2013-11-21 23:30:00+00:00 2013-11-22 07:30:00+00:00  THEFT F/AUTO  2013  \n",
       "\n",
       "[1000 rows x 7 columns]"
      ]
     },
     "execution_count": 121,
     "metadata": {},
     "output_type": "execute_result"
    }
   ],
   "source": [
    "df['YEAR'] = df['REPORT_DAT'].apply(lambda x: x.to_pydatetime().year)\n",
    "df"
   ]
  },
  {
   "cell_type": "code",
   "execution_count": 146,
   "metadata": {
    "scrolled": true
   },
   "outputs": [
    {
     "name": "stdout",
     "output_type": "stream",
     "text": [
      "KFold(n_splits=10, random_state=None, shuffle=True)\n"
     ]
    }
   ],
   "source": [
    "X = df.iloc[:,1:2].to_numpy()\n",
    "y = df.iloc[:,6:7].to_numpy()\n",
    "kf = KFold(n_splits=10, shuffle=True)\n",
    "kf.get_n_splits(X)\n",
    "print(kf)  "
   ]
  },
  {
   "cell_type": "code",
   "execution_count": 151,
   "metadata": {},
   "outputs": [
    {
     "name": "stdout",
     "output_type": "stream",
     "text": [
      "0.85\n",
      "0.92\n",
      "0.9\n",
      "0.9\n",
      "0.94\n",
      "0.87\n",
      "0.9\n",
      "0.87\n",
      "0.89\n",
      "0.91\n"
     ]
    }
   ],
   "source": [
    "k = 1\n",
    "k = 1\n",
    "for train_index, test_index in kf.split(X):\n",
    "    X_train, X_test = X[train_index], X[test_index]\n",
    "    y_train, y_test = y[train_index], y[test_index]\n",
    "    clf = neighbors.KNeighborsClassifier(k, weights='uniform')\n",
    "    clf.fit(X_train, y_train)\n",
    "    k = k + 1\n",
    "    Z = clf.predict(X_test)\n",
    "    y_test = np.ravel(y_test)\n",
    "    print(sklearn.metrics.zero_one_loss(y_test,Z))"
   ]
  },
  {
   "cell_type": "markdown",
   "metadata": {},
   "source": [
    "high error, cannot predict"
   ]
  },
  {
   "cell_type": "code",
   "execution_count": null,
   "metadata": {},
   "outputs": [],
   "source": []
  },
  {
   "cell_type": "code",
   "execution_count": null,
   "metadata": {},
   "outputs": [],
   "source": []
  }
 ],
 "metadata": {
  "kernelspec": {
   "display_name": "Python 3",
   "language": "python",
   "name": "python3"
  },
  "language_info": {
   "codemirror_mode": {
    "name": "ipython",
    "version": 3
   },
   "file_extension": ".py",
   "mimetype": "text/x-python",
   "name": "python",
   "nbconvert_exporter": "python",
   "pygments_lexer": "ipython3",
   "version": "3.7.6"
  }
 },
 "nbformat": 4,
 "nbformat_minor": 4
}
