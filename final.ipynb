{
 "cells": [
  {
   "cell_type": "markdown",
   "metadata": {},
   "source": [
    "# Jupyter Notebook CMSC320 Final Project"
   ]
  },
  {
   "cell_type": "code",
   "execution_count": 14,
   "metadata": {},
   "outputs": [],
   "source": [
    "from ipyleaflet import *\n",
    "import pandas as pd"
   ]
  },
  {
   "cell_type": "code",
   "execution_count": 28,
   "metadata": {},
   "outputs": [
    {
     "data": {
      "text/html": [
       "<div>\n",
       "<style scoped>\n",
       "    .dataframe tbody tr th:only-of-type {\n",
       "        vertical-align: middle;\n",
       "    }\n",
       "\n",
       "    .dataframe tbody tr th {\n",
       "        vertical-align: top;\n",
       "    }\n",
       "\n",
       "    .dataframe thead th {\n",
       "        text-align: right;\n",
       "    }\n",
       "</style>\n",
       "<table border=\"1\" class=\"dataframe\">\n",
       "  <thead>\n",
       "    <tr style=\"text-align: right;\">\n",
       "      <th></th>\n",
       "      <th>X</th>\n",
       "      <th>Y</th>\n",
       "      <th>REPORT_DAT</th>\n",
       "      <th>START_DATE</th>\n",
       "      <th>END_DATE</th>\n",
       "      <th>OFFENSE</th>\n",
       "    </tr>\n",
       "  </thead>\n",
       "  <tbody>\n",
       "    <tr>\n",
       "      <th>0</th>\n",
       "      <td>-76.975118</td>\n",
       "      <td>38.917289</td>\n",
       "      <td>2010-07-16 14:00:00+00:00</td>\n",
       "      <td>2010-07-15 13:37:00+00:00</td>\n",
       "      <td>2010-07-15 13:40:00+00:00</td>\n",
       "      <td>THEFT F/AUTO</td>\n",
       "    </tr>\n",
       "    <tr>\n",
       "      <th>8</th>\n",
       "      <td>-76.983999</td>\n",
       "      <td>38.909039</td>\n",
       "      <td>2010-01-06 11:02:00+00:00</td>\n",
       "      <td>2010-01-03 05:00:00+00:00</td>\n",
       "      <td>2010-01-05 19:00:00+00:00</td>\n",
       "      <td>THEFT F/AUTO</td>\n",
       "    </tr>\n",
       "    <tr>\n",
       "      <th>9</th>\n",
       "      <td>-77.074188</td>\n",
       "      <td>38.968634</td>\n",
       "      <td>2010-01-06 11:47:00+00:00</td>\n",
       "      <td>2010-01-05 15:00:00+00:00</td>\n",
       "      <td>2010-01-06 09:00:00+00:00</td>\n",
       "      <td>THEFT F/AUTO</td>\n",
       "    </tr>\n",
       "    <tr>\n",
       "      <th>11</th>\n",
       "      <td>-77.034093</td>\n",
       "      <td>38.927430</td>\n",
       "      <td>2010-01-06 11:30:00+00:00</td>\n",
       "      <td>2010-01-06 10:30:00+00:00</td>\n",
       "      <td>2010-01-06 10:45:00+00:00</td>\n",
       "      <td>THEFT F/AUTO</td>\n",
       "    </tr>\n",
       "    <tr>\n",
       "      <th>12</th>\n",
       "      <td>-77.101354</td>\n",
       "      <td>38.945408</td>\n",
       "      <td>2010-01-06 12:00:00+00:00</td>\n",
       "      <td>2010-01-03 16:00:00+00:00</td>\n",
       "      <td>2010-01-06 09:45:00+00:00</td>\n",
       "      <td>THEFT F/AUTO</td>\n",
       "    </tr>\n",
       "  </tbody>\n",
       "</table>\n",
       "</div>"
      ],
      "text/plain": [
       "            X          Y                REPORT_DAT                START_DATE  \\\n",
       "0  -76.975118  38.917289 2010-07-16 14:00:00+00:00 2010-07-15 13:37:00+00:00   \n",
       "8  -76.983999  38.909039 2010-01-06 11:02:00+00:00 2010-01-03 05:00:00+00:00   \n",
       "9  -77.074188  38.968634 2010-01-06 11:47:00+00:00 2010-01-05 15:00:00+00:00   \n",
       "11 -77.034093  38.927430 2010-01-06 11:30:00+00:00 2010-01-06 10:30:00+00:00   \n",
       "12 -77.101354  38.945408 2010-01-06 12:00:00+00:00 2010-01-03 16:00:00+00:00   \n",
       "\n",
       "                    END_DATE       OFFENSE  \n",
       "0  2010-07-15 13:40:00+00:00  THEFT F/AUTO  \n",
       "8  2010-01-05 19:00:00+00:00  THEFT F/AUTO  \n",
       "9  2010-01-06 09:00:00+00:00  THEFT F/AUTO  \n",
       "11 2010-01-06 10:45:00+00:00  THEFT F/AUTO  \n",
       "12 2010-01-06 09:45:00+00:00  THEFT F/AUTO  "
      ]
     },
     "execution_count": 28,
     "metadata": {},
     "output_type": "execute_result"
    }
   ],
   "source": [
    "df = (pd.read_csv(\"./Crime_Incidents_in_2010_to_2019.csv\")\n",
    "        .query('OFFENSE == \"THEFT F/AUTO\"')\n",
    "        .drop(columns = ['BID','LONGITUDE','LATITUDE','VOTING_PRECINCT', 'OBJECTID',\n",
    "                        'OCTO_RECORD_ID','CCN','SHIFT','BLOCK','XBLOCK','YBLOCK','WARD',\n",
    "                        'ANC','DISTRICT','PSA','METHOD','NEIGHBORHOOD_CLUSTER','BLOCK_GROUP',\n",
    "                        'CENSUS_TRACT'])\n",
    "        .dropna())\n",
    "df['START_DATE'] = pd.to_datetime(df.START_DATE, format=\"%Y-%m\")\n",
    "df['END_DATE'] = pd.to_datetime(df.END_DATE, format=\"%Y-%m\")\n",
    "df['REPORT_DAT'] = pd.to_datetime(df.REPORT_DAT, format=\"%Y-%m\")\n",
    "df.head()"
   ]
  },
  {
   "cell_type": "code",
   "execution_count": 9,
   "metadata": {},
   "outputs": [
    {
     "data": {
      "application/vnd.jupyter.widget-view+json": {
       "model_id": "816b2885f9944decb48cc85b88cf3b73",
       "version_major": 2,
       "version_minor": 0
      },
      "text/plain": [
       "Map(center=[38.9072, -77.0369], controls=(ZoomControl(options=['position', 'zoom_in_text', 'zoom_in_title', 'z…"
      ]
     },
     "metadata": {},
     "output_type": "display_data"
    }
   ],
   "source": [
    "m = Map(center = (38.9072, -77.0369), zoom = 11)\n",
    "for i in df.iterrows():\n",
    "    data = i[1]\n",
    "    circle = Circle()\n",
    "    circle.location = (data[1], data[0])\n",
    "    circle.radius = 1\n",
    "    circle.color = \"green\"\n",
    "    circle.fill_color = \"green\"\n",
    "    \n",
    "    m.add_layer(circle)\n",
    "m"
   ]
  },
  {
   "cell_type": "markdown",
   "metadata": {},
   "source": [
    "## Prediction task\n",
    "> Can we predict the number of theft from automobiles in 2020?\n"
   ]
  },
  {
   "cell_type": "code",
   "execution_count": null,
   "metadata": {},
   "outputs": [],
   "source": []
  }
 ],
 "metadata": {
  "kernelspec": {
   "display_name": "Python 3",
   "language": "python",
   "name": "python3"
  },
  "language_info": {
   "codemirror_mode": {
    "name": "ipython",
    "version": 3
   },
   "file_extension": ".py",
   "mimetype": "text/x-python",
   "name": "python",
   "nbconvert_exporter": "python",
   "pygments_lexer": "ipython3",
   "version": "3.7.6"
  }
 },
 "nbformat": 4,
 "nbformat_minor": 2
}
