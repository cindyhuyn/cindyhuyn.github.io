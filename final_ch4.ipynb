{
 "cells": [
  {
   "cell_type": "code",
   "execution_count": 1,
   "metadata": {},
   "outputs": [
    {
     "data": {
      "text/html": [
       "<center>Photo Credit: <a href=\"https://pixabay.com/illustrations/police-crime-scene-blue-light-2167968/\">pixabay</a><BR><img src=\"img/police-2167968_1280.jpg\" align=\"center\"></center>\n"
      ],
      "text/plain": [
       "<IPython.core.display.HTML object>"
      ]
     },
     "metadata": {},
     "output_type": "display_data"
    }
   ],
   "source": [
    "%%html\n",
    "<center>Photo Credit: <a href=\"https://pixabay.com/illustrations/police-crime-scene-blue-light-2167968/\">pixabay</a><BR><img src=\"img/police-2167968_1280.jpg\" align=\"center\"></center>"
   ]
  },
  {
   "cell_type": "markdown",
   "metadata": {},
   "source": [
    "<h1><strong><center>CMSC320 Final Project<BR>Predicting the Crime 'Theft From Auto' in Washington, DC<center></strong></h1>\n",
    "    <center><i>Group members: Leo Wu, Kevin Nguyen, Cindy Huynh<BR>Spring 2020 - Hector Corada Bravo</i></center>"
   ]
  },
  {
   "cell_type": "markdown",
   "metadata": {},
   "source": [
    "# Introduction\n",
    "\n",
    "Crime culture is different in different areas. \n",
    "In the past, Chicago and Los Angeles have been known for gangs (ChicagoMag, 2012).\n",
    "Currently, Baltimore, Maryland, is considered the deadliest US city with 348 killings by the end of 2019, which is not the final value yet (Kennedy, 2020).\n",
    "Therefore, due to the proximity of Washington, DC to the University of Maryland, we wanted to examine crime in Washington, DC.\n",
    "According to the Patch, DC was ranked America's 16th most dangerous city in 2017 (2018).\n",
    "\n",
    "At DC Atlas, we noticed that Theft From Auto appeared to be significant, in regards to Property Crime (2020). \n",
    "According to City of Cincinnati, Ohio, \"Theft from Auto\" is a crime of opportunity and is preventable (2020).\n",
    "\n",
    "# Hypothesis \n",
    "The question we are interested in is, while analyzing the trends of crime in DC, and can we predict 'Theft from Auto' crime in DC with data for ten years of data 2010-2019?\n",
    "\n",
    "# Purpose\n",
    "Our overall goal is to predict what will happen in 2020 in terms of Theft from Auto (TFA) crimes. Therefore, we will train our ML models on the data from 2010-2019 to test or predict the data in 2020.\n"
   ]
  },
  {
   "cell_type": "code",
   "execution_count": 2,
   "metadata": {},
   "outputs": [],
   "source": [
    "#Importing required libraries\n",
    "from ipyleaflet import *\n",
    "import warnings\n",
    "import pandas as pd\n",
    "import sklearn.ensemble\n",
    "from sklearn import neighbors\n",
    "from sklearn.model_selection import KFold\n",
    "import sklearn.metrics\n",
    "import matplotlib.pylab as plt\n",
    "import numpy as np\n",
    "import seaborn as sns\n",
    "import statsmodels.formula.api as smf\n",
    "warnings.filterwarnings('ignore')\n"
   ]
  },
  {
   "cell_type": "markdown",
   "metadata": {},
   "source": [
    "# Dataset\n",
    "    \n",
    "<span style=\"font-family: Arial\"><strong>Why we chose our dataset:</strong> Since Theft from Auto (TFA) is a significant portion of crime from 2010-2019, and theft (other) is a very broad category, we chose to focus on this crime. Our preliminary analysis of the data is that TFA consists of the second highest (29.5% or 93181 out of total of 315867)  of all crime listed in this dataset. Note that this dataset does not include drug crime, so we cannot make any assumptions about this. <BR><BR>\n",
    "<strong>Size of the dataset:</strong> When looking at your dataset, the columns indicate attributes, and the rows indicate entities or observations.\n",
    "In our dataset of 2010-2019, we have 25 attributes, 349342 rows of data. We chose to focus on the X (longitude), Y (latitude), Report Date, Start Date, End Date, and Offense. Our X and Y values are of type double. The date values are converted to datetime objects. The Offense attribute was kept as a string or character object type.\n",
    "\n",
    "# Data Curation\n",
    "The data was obtained from Open Data DC site at https://opendata.dc.gov/datasets/crime-incidents-in-2010 through https://opendata.dc.gov/datasets/crime-incidents-in-2019. \n",
    "Spreadsheets were downloaded from the site and combined into one spreadsheet for ten years of data from 2010 to 2019.\n",
    "Approximately 33,000 to 38,000 entities/observations were obtained from each year, totalling approximately 350,000 observation in total (349,343 to be exact).<BR><BR>\n",
    "In data science, when we want to extract desired data from a website, we usually get more than what we needed. We may get useless data or garabage data that we won't need. To get around this, we tidy our data to make a cleaner dataset for us to work with. There are a few ways to tidy our data: Gathering (eliminate the column headers with values and replace with variable name), splitting (separate the multiple variables stored in one column), rotating (when there are variables storied both in rows and column), normalizing (separating multiple types of obersavtional units that are stored in the same table into multiple different tables), and joining (combining multiple datasets based on a condition into one dataset).<BR><BR>\n",
    "In our tutorial, we tidy our trained data (2010-2019) by dropping any unnecessary columns of data, leaving only the latitude as X, longitude as Y (the coordinates to where the crime was reported), report date (date the police officer recorded the report), start date (the date the crime started), end date (date the crime supposedly ended), and offense (theft from auto). We then dropped any entities/observations with missing data in any fields. We converted any date/time fields to datetime objects in python. Examples and usage can be found at <a href=\"https://pandas.pydata.org/pandas-docs/stable/reference/api/pandas.to_datetime.html\">https://pandas.pydata.org/pandas-docs/stable/reference/api/pandas.to_datetime.html</a> and <a href=\"https://colab.research.google.com/github/gal-a/blog/blob/master/docs/notebooks/pandas/pandas_datetime.ipynb\">https://colab.research.google.com/github/gal-a/blog/blob/master/docs/notebooks/pandas/pandas_datetime.ipynb</a>.\n",
    " \n",
    "<BR><strong>Further tidying:</strong> Since we identified that we still have some unrelated data, we could either remove it from our dataset, or filter it out to ignore it. We chose to filter it out later on ie. during out Prediction task to generate a table for totals for each year, and use that as our training data for Machine Learning. Since report dates would report crime that did not necessarily start in the same year it was reported, we can filter out the data many different ways. <i>It is important to document the method that was used so that <strong>reproducibility</strong> can occur.</i> Since we know that very few reported crimes did not start the same year it was reported, we ignore entities/observations that do not match a start date between years 2010-2019, by filtering for year 2010 start date.<BR><BR>"
   ]
  },
  {
   "cell_type": "markdown",
   "metadata": {},
   "source": [
    "Our df1 represents the whole crime dataset. We tidy df1 to utilize a cleaner dataset without any of the useless information. <BR>\n",
    "Our first step is to show the frequency of each type of crime has occured from 2010 to 2019."
   ]
  },
  {
   "cell_type": "code",
   "execution_count": 12,
   "metadata": {},
   "outputs": [
    {
     "data": {
      "text/plain": [
       "THEFT/OTHER                   117905\n",
       "THEFT F/AUTO                   93181\n",
       "ROBBERY                        29738\n",
       "MOTOR VEHICLE THEFT            25880\n",
       "BURGLARY                       25548\n",
       "ASSAULT W/DANGEROUS WEAPON     19881\n",
       "SEX ABUSE                       2398\n",
       "HOMICIDE                        1112\n",
       "ARSON                            224\n",
       "Name: OFFENSE, dtype: int64"
      ]
     },
     "execution_count": 12,
     "metadata": {},
     "output_type": "execute_result"
    }
   ],
   "source": [
    "#read the CSV file. df1 is full dataset dataframe\n",
    "df1 = pd.read_csv(\"./Crime_Incidents_in_2010_to_2019.csv\")\n",
    "\n",
    "#all_offense_df is filtered dataset. filter for all offenses, drop unnecessary columns, drop rows w any fields containing NA\n",
    "all_offense_df = (df1.drop(columns = ['BID','LONGITUDE','LATITUDE','VOTING_PRECINCT', 'OBJECTID',\n",
    "                        'OCTO_RECORD_ID','CCN','SHIFT','BLOCK','XBLOCK','YBLOCK','WARD',\n",
    "                        'ANC','DISTRICT','PSA','METHOD','NEIGHBORHOOD_CLUSTER','BLOCK_GROUP',\n",
    "                        'CENSUS_TRACT'])\n",
    "        .dropna())\n",
    "#Here displays the frequency of each type of offenses that occured between 2010-2019\n",
    "all_offense_df['OFFENSE'].value_counts()"
   ]
  },
  {
   "cell_type": "markdown",
   "metadata": {},
   "source": [
    "From our observation, theft (other) is the most frequent type of offense to occur while auto theft (THEFT F/AUTO) being the second highest.<BR>\n",
    "\n",
    "Now we focus on anaylzing Theft F/Auto. In order to do that we have to create a new dataframe with the only type of offenses is Auto Theft. <BR>\n",
    "In df1 dataset, we filtered out only THEFT F/AUTO occurences. This is a sizeable amount of data from our dataset.<BR>\n",
    "In df2 dataset, we sampled 1000 observations from the entire dataset to plot on a map. This includes observations other than THEFT F/AUTO.<BR>\n",
    "In tmp dataset, we filter out crime start years 2010-2019 to use as our training data for the Prediction Task / Machine Learning (ML) models."
   ]
  },
  {
   "cell_type": "code",
   "execution_count": 17,
   "metadata": {},
   "outputs": [
    {
     "data": {
      "text/html": [
       "<div>\n",
       "<style scoped>\n",
       "    .dataframe tbody tr th:only-of-type {\n",
       "        vertical-align: middle;\n",
       "    }\n",
       "\n",
       "    .dataframe tbody tr th {\n",
       "        vertical-align: top;\n",
       "    }\n",
       "\n",
       "    .dataframe thead th {\n",
       "        text-align: right;\n",
       "    }\n",
       "</style>\n",
       "<table border=\"1\" class=\"dataframe\">\n",
       "  <thead>\n",
       "    <tr style=\"text-align: right;\">\n",
       "      <th></th>\n",
       "      <th>X</th>\n",
       "      <th>Y</th>\n",
       "      <th>REPORT_DAT</th>\n",
       "      <th>START_DATE</th>\n",
       "      <th>END_DATE</th>\n",
       "      <th>OFFENSE</th>\n",
       "    </tr>\n",
       "  </thead>\n",
       "  <tbody>\n",
       "    <tr>\n",
       "      <th>0</th>\n",
       "      <td>-76.975118</td>\n",
       "      <td>38.917289</td>\n",
       "      <td>2010-07-16 14:00:00</td>\n",
       "      <td>2010-07-15 13:37:00</td>\n",
       "      <td>2010-07-15 13:40:00</td>\n",
       "      <td>THEFT F/AUTO</td>\n",
       "    </tr>\n",
       "    <tr>\n",
       "      <th>8</th>\n",
       "      <td>-76.983999</td>\n",
       "      <td>38.909039</td>\n",
       "      <td>2010-01-06 11:02:00</td>\n",
       "      <td>2010-01-03 05:00:00</td>\n",
       "      <td>2010-01-05 19:00:00</td>\n",
       "      <td>THEFT F/AUTO</td>\n",
       "    </tr>\n",
       "    <tr>\n",
       "      <th>9</th>\n",
       "      <td>-77.074188</td>\n",
       "      <td>38.968634</td>\n",
       "      <td>2010-01-06 11:47:00</td>\n",
       "      <td>2010-01-05 15:00:00</td>\n",
       "      <td>2010-01-06 09:00:00</td>\n",
       "      <td>THEFT F/AUTO</td>\n",
       "    </tr>\n",
       "    <tr>\n",
       "      <th>11</th>\n",
       "      <td>-77.034093</td>\n",
       "      <td>38.927430</td>\n",
       "      <td>2010-01-06 11:30:00</td>\n",
       "      <td>2010-01-06 10:30:00</td>\n",
       "      <td>2010-01-06 10:45:00</td>\n",
       "      <td>THEFT F/AUTO</td>\n",
       "    </tr>\n",
       "    <tr>\n",
       "      <th>12</th>\n",
       "      <td>-77.101354</td>\n",
       "      <td>38.945408</td>\n",
       "      <td>2010-01-06 12:00:00</td>\n",
       "      <td>2010-01-03 16:00:00</td>\n",
       "      <td>2010-01-06 09:45:00</td>\n",
       "      <td>THEFT F/AUTO</td>\n",
       "    </tr>\n",
       "  </tbody>\n",
       "</table>\n",
       "</div>"
      ],
      "text/plain": [
       "            X          Y          REPORT_DAT          START_DATE  \\\n",
       "0  -76.975118  38.917289 2010-07-16 14:00:00 2010-07-15 13:37:00   \n",
       "8  -76.983999  38.909039 2010-01-06 11:02:00 2010-01-03 05:00:00   \n",
       "9  -77.074188  38.968634 2010-01-06 11:47:00 2010-01-05 15:00:00   \n",
       "11 -77.034093  38.927430 2010-01-06 11:30:00 2010-01-06 10:30:00   \n",
       "12 -77.101354  38.945408 2010-01-06 12:00:00 2010-01-03 16:00:00   \n",
       "\n",
       "              END_DATE       OFFENSE  \n",
       "0  2010-07-15 13:40:00  THEFT F/AUTO  \n",
       "8  2010-01-05 19:00:00  THEFT F/AUTO  \n",
       "9  2010-01-06 09:00:00  THEFT F/AUTO  \n",
       "11 2010-01-06 10:45:00  THEFT F/AUTO  \n",
       "12 2010-01-06 09:45:00  THEFT F/AUTO  "
      ]
     },
     "execution_count": 17,
     "metadata": {},
     "output_type": "execute_result"
    }
   ],
   "source": [
    "#df is filtered dataset. filter for TFA offenses, drop unnecessary columns, drop rows w any fields containing NA\n",
    "df = (df1.query('OFFENSE == \"THEFT F/AUTO\"')\n",
    "        .drop(columns = ['BID','LONGITUDE','LATITUDE','VOTING_PRECINCT', 'OBJECTID',\n",
    "                        'OCTO_RECORD_ID','CCN','SHIFT','BLOCK','XBLOCK','YBLOCK','WARD',\n",
    "                        'ANC','DISTRICT','PSA','METHOD','NEIGHBORHOOD_CLUSTER','BLOCK_GROUP',\n",
    "                        'CENSUS_TRACT'])\n",
    "        .dropna())\n",
    "\n",
    "#converting date/time text to datetime objects for df and df1\n",
    "df1['START_DATE'] = pd.to_datetime(df1.START_DATE, format=\"%Y-%m\", errors='coerce')\n",
    "df1['END_DATE'] = pd.to_datetime(df1.END_DATE, format=\"%Y-%m\", errors='coerce')\n",
    "df1['REPORT_DAT'] = pd.to_datetime(df1.REPORT_DAT, format=\"%Y-%m\", errors='coerce')\n",
    "df1.dropna()\n",
    "df['START_DATE'] = pd.to_datetime(df.START_DATE, format=\"%Y-%m\")\n",
    "df['END_DATE'] = pd.to_datetime(df.END_DATE, format=\"%Y-%m\")\n",
    "df['REPORT_DAT'] = pd.to_datetime(df.REPORT_DAT, format=\"%Y-%m\")\n",
    "df #entire dataset for prediction task\n",
    "\n",
    "#sample size of 1000 for mapping, labels will use 'strings' for datetimes\n",
    "df2 = df.sample(n=1000) \n",
    "\n",
    "#display the filtered dataframe, note all offenses are THEFT F/AUTO\n",
    "df.head()"
   ]
  },
  {
   "cell_type": "markdown",
   "metadata": {},
   "source": [
    "# VISUALIZATION: Map\n",
    "<strong>Map Title:</strong> Theft From Auto Crime from 2010-2019 in DC<BR>\n",
    "<strong>Description:</strong> The data can be plotted on to a map, especially if it has geographical coordinates, longitude and latitude. This map shows each theft from automobile crime that was taken in the sample from the dataframe. This is the geographical map with data points for a sample size of 1000 from data containing observations for theft from auto crimes from 2010-2019. The the sample dataset was used to plot the points in the map below using the python map module. See <a href=\"https://docs.python.org/3/library/functions.html#map\">https://docs.python.org/3/library/functions.html#map</a> for more information. "
   ]
  },
  {
   "cell_type": "code",
   "execution_count": 4,
   "metadata": {},
   "outputs": [
    {
     "data": {
      "application/vnd.jupyter.widget-view+json": {
       "model_id": "fc5bf66da6414562ad5296c15ef40231",
       "version_major": 2,
       "version_minor": 0
      },
      "text/plain": [
       "Map(center=[38.8951, -77.0364], controls=(ZoomControl(options=['position', 'zoom_in_text', 'zoom_in_title', 'z…"
      ]
     },
     "metadata": {},
     "output_type": "display_data"
    }
   ],
   "source": [
    "m = Map(center = (38.8951, -77.0364), zoom = 11)\n",
    "for i in df2.iterrows():\n",
    "    data = i[1]\n",
    "    circle = Circle()\n",
    "    circle.location = (data[1], data[0])\n",
    "    circle.radius = 1\n",
    "    circle.color = \"green\"\n",
    "    circle.fill_color = \"green\"\n",
    "    \n",
    "    m.add_layer(circle)\n",
    "m"
   ]
  },
  {
   "cell_type": "markdown",
   "metadata": {},
   "source": [
    "We can make an observation that the likelyhood of auto theft crime will occur would be near the center of DC. The data points shown are denser towards the center of Washington which implies that the frequency of auto theft occuring is higher there."
   ]
  },
  {
   "cell_type": "markdown",
   "metadata": {},
   "source": [
    "## Prediction task - Machine Learning\n",
    "\n",
    "In Machine Learning (ML) we use classifiers to help train our data to make predictions. A classifier is a hypothesis used to categorize and assign labels to particular data points. An example of a classifier would be: determining if someone would go out to play tennis on a sunny day based on a dataset that shows if that person went out to play tennis that day and the type of weather that occurs during the same day played. <BR><BR>For our tutorial, our classifier would be determining if more people would commit auto theft crime in DC in the future based on a dataset for the previous ten years that tells us the number of auto theft crimes reported, when they are reported, and where the crime that was reported happened.\n",
    "\n",
    "> Can we predict the number of theft from automobiles in 2020?\n",
    "\n",
    "Using our train dataset, we will first create a new dataframe that will consist of the years (2010-2019) and the number of theft autos that occur during those years."
   ]
  },
  {
   "cell_type": "code",
   "execution_count": 5,
   "metadata": {},
   "outputs": [
    {
     "data": {
      "text/html": [
       "<div>\n",
       "<style scoped>\n",
       "    .dataframe tbody tr th:only-of-type {\n",
       "        vertical-align: middle;\n",
       "    }\n",
       "\n",
       "    .dataframe tbody tr th {\n",
       "        vertical-align: top;\n",
       "    }\n",
       "\n",
       "    .dataframe thead th {\n",
       "        text-align: right;\n",
       "    }\n",
       "</style>\n",
       "<table border=\"1\" class=\"dataframe\">\n",
       "  <thead>\n",
       "    <tr style=\"text-align: right;\">\n",
       "      <th></th>\n",
       "      <th># of Theft From Auto</th>\n",
       "      <th>Total Crime</th>\n",
       "      <th>TFA %</th>\n",
       "    </tr>\n",
       "  </thead>\n",
       "  <tbody>\n",
       "    <tr>\n",
       "      <th>2010</th>\n",
       "      <td>8144</td>\n",
       "      <td>31653</td>\n",
       "      <td>25.728999</td>\n",
       "    </tr>\n",
       "    <tr>\n",
       "      <th>2011</th>\n",
       "      <td>9402</td>\n",
       "      <td>33199</td>\n",
       "      <td>28.320130</td>\n",
       "    </tr>\n",
       "    <tr>\n",
       "      <th>2012</th>\n",
       "      <td>9722</td>\n",
       "      <td>35125</td>\n",
       "      <td>27.678292</td>\n",
       "    </tr>\n",
       "    <tr>\n",
       "      <th>2013</th>\n",
       "      <td>10151</td>\n",
       "      <td>35839</td>\n",
       "      <td>28.323893</td>\n",
       "    </tr>\n",
       "    <tr>\n",
       "      <th>2014</th>\n",
       "      <td>11269</td>\n",
       "      <td>38175</td>\n",
       "      <td>29.519319</td>\n",
       "    </tr>\n",
       "    <tr>\n",
       "      <th>2015</th>\n",
       "      <td>11251</td>\n",
       "      <td>37064</td>\n",
       "      <td>30.355601</td>\n",
       "    </tr>\n",
       "    <tr>\n",
       "      <th>2016</th>\n",
       "      <td>12120</td>\n",
       "      <td>37142</td>\n",
       "      <td>32.631522</td>\n",
       "    </tr>\n",
       "    <tr>\n",
       "      <th>2017</th>\n",
       "      <td>10184</td>\n",
       "      <td>32839</td>\n",
       "      <td>31.011907</td>\n",
       "    </tr>\n",
       "    <tr>\n",
       "      <th>2018</th>\n",
       "      <td>150</td>\n",
       "      <td>533</td>\n",
       "      <td>28.142589</td>\n",
       "    </tr>\n",
       "    <tr>\n",
       "      <th>2019</th>\n",
       "      <td>10670</td>\n",
       "      <td>33692</td>\n",
       "      <td>31.669239</td>\n",
       "    </tr>\n",
       "  </tbody>\n",
       "</table>\n",
       "</div>"
      ],
      "text/plain": [
       "      # of Theft From Auto  Total Crime      TFA %\n",
       "2010                  8144        31653  25.728999\n",
       "2011                  9402        33199  28.320130\n",
       "2012                  9722        35125  27.678292\n",
       "2013                 10151        35839  28.323893\n",
       "2014                 11269        38175  29.519319\n",
       "2015                 11251        37064  30.355601\n",
       "2016                 12120        37142  32.631522\n",
       "2017                 10184        32839  31.011907\n",
       "2018                   150          533  28.142589\n",
       "2019                 10670        33692  31.669239"
      ]
     },
     "execution_count": 5,
     "metadata": {},
     "output_type": "execute_result"
    }
   ],
   "source": [
    "#We create another dataframe that shows how much TFA occurred each year\n",
    "tmp = pd.DataFrame(columns = ['# of Theft From Auto', 'Total Crime'], \n",
    "                   index = ['2010', '2011','2012','2013','2014',\n",
    "                            '2015','2016','2017','2018','2019'])\n",
    "# any NA values will be marked as 0 instead\n",
    "tmp = tmp.fillna(0)\n",
    "\n",
    "#iterate through all rows to see if the year matches\n",
    "for i in df.iterrows():\n",
    "    datetime = i[1][3].to_pydatetime() #uses matching start date year\n",
    "    for j in tmp.iterrows():\n",
    "        if str(datetime.year) == j[0]:\n",
    "            tmp['# of Theft From Auto'][j[0]] += 1\n",
    "for i in df1.iterrows():\n",
    "    datetime = i[1][3].to_pydatetime() #uses matching start date year\n",
    "    for j in tmp.iterrows():\n",
    "        if str(datetime.year) == j[0]:\n",
    "            tmp['Total Crime'][j[0]] += 1\n",
    "tmp['TFA %'] = np.where(tmp['Total Crime'] < 1, 0, 100*tmp['# of Theft From Auto']/tmp['Total Crime'])\n",
    "\n",
    "tmp"
   ]
  },
  {
   "cell_type": "markdown",
   "metadata": {},
   "source": [
    "<strong>Title:</strong> Table for Statistics for Theft From Auto and Total DC Crime (2010-2019)<BR>\n",
    "    <strong>Description:</strong> The chart table above is useful for seeing exact values and statistics at a glance about our data. Each attribute provides a useful piece of information about each year.\n",
    "<BR>There are other ways to do this, such as built-in functions such as summary() table data. <BR><BR>\n",
    "The tmp dataset is what we will use to train our ML model on. \n",
    "    <BR>ML models can include a variety of models, such as linear regression, logistic regression, K Nearest Neighbor (KNN), Decision Tree, and Random Forests."
   ]
  },
  {
   "cell_type": "markdown",
   "metadata": {},
   "source": [
    "# VISUALIZATION: Bar Plot"
   ]
  },
  {
   "cell_type": "code",
   "execution_count": 26,
   "metadata": {},
   "outputs": [
    {
     "ename": "AttributeError",
     "evalue": "'tuple' object has no attribute 'x0'",
     "output_type": "error",
     "traceback": [
      "\u001b[1;31m---------------------------------------------------------------------------\u001b[0m",
      "\u001b[1;31mAttributeError\u001b[0m                            Traceback (most recent call last)",
      "\u001b[1;32m<ipython-input-26-58029bfefd58>\u001b[0m in \u001b[0;36m<module>\u001b[1;34m\u001b[0m\n\u001b[0;32m      1\u001b[0m \u001b[0mplot\u001b[0m \u001b[1;33m=\u001b[0m \u001b[0msns\u001b[0m\u001b[1;33m.\u001b[0m\u001b[0mbarplot\u001b[0m\u001b[1;33m(\u001b[0m\u001b[0mx\u001b[0m \u001b[1;33m=\u001b[0m \u001b[0mtmp\u001b[0m\u001b[1;33m.\u001b[0m\u001b[0mindex\u001b[0m\u001b[1;33m,\u001b[0m \u001b[0my\u001b[0m \u001b[1;33m=\u001b[0m \u001b[0mtmp\u001b[0m\u001b[1;33m[\u001b[0m\u001b[1;34m'TFA %'\u001b[0m\u001b[1;33m]\u001b[0m\u001b[1;33m,\u001b[0m \u001b[0mcolor\u001b[0m \u001b[1;33m=\u001b[0m \u001b[1;34m'blue'\u001b[0m\u001b[1;33m)\u001b[0m\u001b[1;33m.\u001b[0m\u001b[0mset_title\u001b[0m\u001b[1;33m(\u001b[0m\u001b[1;34m\"Percentage of Theft From Auto (2010-2019)\"\u001b[0m\u001b[1;33m)\u001b[0m\u001b[1;33m\u001b[0m\u001b[1;33m\u001b[0m\u001b[0m\n\u001b[1;32m----> 2\u001b[1;33m plot.set_position([plot.get_position().x0, \n\u001b[0m\u001b[0;32m      3\u001b[0m                    \u001b[0mplot\u001b[0m\u001b[1;33m.\u001b[0m\u001b[0mget_position\u001b[0m\u001b[1;33m(\u001b[0m\u001b[1;33m)\u001b[0m\u001b[1;33m.\u001b[0m\u001b[0my0\u001b[0m\u001b[1;33m,\u001b[0m\u001b[1;33m\u001b[0m\u001b[1;33m\u001b[0m\u001b[0m\n\u001b[0;32m      4\u001b[0m                    \u001b[0mplot\u001b[0m\u001b[1;33m.\u001b[0m\u001b[0mget_position\u001b[0m\u001b[1;33m(\u001b[0m\u001b[1;33m)\u001b[0m\u001b[1;33m.\u001b[0m\u001b[0mwidth\u001b[0m\u001b[1;33m*\u001b[0m\u001b[1;36m2\u001b[0m\u001b[1;33m,\u001b[0m\u001b[1;33m\u001b[0m\u001b[1;33m\u001b[0m\u001b[0m\n\u001b[0;32m      5\u001b[0m                    plot.get_position().height*2])\n",
      "\u001b[1;31mAttributeError\u001b[0m: 'tuple' object has no attribute 'x0'"
     ]
    },
    {
     "data": {
      "image/png": "[encoded data removed]",
      "text/plain": [
       "<Figure size 432x288 with 1 Axes>"
      ]
     },
     "metadata": {
      "needs_background": "light"
     },
     "output_type": "display_data"
    }
   ],
   "source": [
    "plot = sns.barplot(x = tmp.index, y = tmp['TFA %'], color = 'blue').set_title(\"Percentage of Theft From Auto (2010-2019)\")\n",
    "plot.set_position([plot.get_position().x0, \n",
    "                   plot.get_position().y0, \n",
    "                   plot.get_position().width*2, \n",
    "                   plot.get_position().height*2])\n",
    "plot"
   ]
  },
  {
   "cell_type": "markdown",
   "metadata": {},
   "source": [
    "<strong>Title:</strong> Barplot of Percentage of Theft From Auto (2010-2019)<BR>\n",
    "<strong>X-Axis:</strong> Year<BR>\n",
    "<strong>Y-Axis:</strong> TFA Percentage<BR>\n",
    "<strong>Description:</strong> (Above) A bar plot can be used to visualize and present the data. Using the undistorted quantities of position and length allow for effective visualization of data.<BR><BR><BR>"
   ]
  },
  {
   "cell_type": "code",
   "execution_count": 25,
   "metadata": {},
   "outputs": [
    {
     "ename": "AttributeError",
     "evalue": "'tuple' object has no attribute 'x0'",
     "output_type": "error",
     "traceback": [
      "\u001b[1;31m---------------------------------------------------------------------------\u001b[0m",
      "\u001b[1;31mAttributeError\u001b[0m                            Traceback (most recent call last)",
      "\u001b[1;32m<ipython-input-25-0a1edd93402e>\u001b[0m in \u001b[0;36m<module>\u001b[1;34m\u001b[0m\n\u001b[0;32m      1\u001b[0m \u001b[0mplot\u001b[0m \u001b[1;33m=\u001b[0m \u001b[0msns\u001b[0m\u001b[1;33m.\u001b[0m\u001b[0mbarplot\u001b[0m\u001b[1;33m(\u001b[0m\u001b[0mx\u001b[0m \u001b[1;33m=\u001b[0m \u001b[0mtmp\u001b[0m\u001b[1;33m.\u001b[0m\u001b[0mindex\u001b[0m\u001b[1;33m,\u001b[0m \u001b[0my\u001b[0m \u001b[1;33m=\u001b[0m \u001b[0mtmp\u001b[0m\u001b[1;33m[\u001b[0m\u001b[1;34m'Total Crime'\u001b[0m\u001b[1;33m]\u001b[0m\u001b[1;33m,\u001b[0m \u001b[0mcolor\u001b[0m \u001b[1;33m=\u001b[0m \u001b[1;34m'blue'\u001b[0m\u001b[1;33m)\u001b[0m\u001b[1;33m.\u001b[0m\u001b[0mset_title\u001b[0m\u001b[1;33m(\u001b[0m\u001b[1;34m\"Total Crime Per Year (2010-2019)\"\u001b[0m\u001b[1;33m)\u001b[0m\u001b[1;33m\u001b[0m\u001b[1;33m\u001b[0m\u001b[0m\n\u001b[1;32m----> 2\u001b[1;33m plot.set_position([plot.get_position().x0, \n\u001b[0m\u001b[0;32m      3\u001b[0m                    \u001b[0mplot\u001b[0m\u001b[1;33m.\u001b[0m\u001b[0mget_position\u001b[0m\u001b[1;33m(\u001b[0m\u001b[1;33m)\u001b[0m\u001b[1;33m.\u001b[0m\u001b[0my0\u001b[0m\u001b[1;33m,\u001b[0m\u001b[1;33m\u001b[0m\u001b[1;33m\u001b[0m\u001b[0m\n\u001b[0;32m      4\u001b[0m                    \u001b[0mplot\u001b[0m\u001b[1;33m.\u001b[0m\u001b[0mget_position\u001b[0m\u001b[1;33m(\u001b[0m\u001b[1;33m)\u001b[0m\u001b[1;33m.\u001b[0m\u001b[0mwidth\u001b[0m\u001b[1;33m*\u001b[0m\u001b[1;36m2\u001b[0m\u001b[1;33m,\u001b[0m\u001b[1;33m\u001b[0m\u001b[1;33m\u001b[0m\u001b[0m\n\u001b[0;32m      5\u001b[0m                    plot.get_position().height*2])\n",
      "\u001b[1;31mAttributeError\u001b[0m: 'tuple' object has no attribute 'x0'"
     ]
    },
    {
     "data": {
      "image/png": "[encoded data removed]",
      "text/plain": [
       "<Figure size 432x288 with 1 Axes>"
      ]
     },
     "metadata": {
      "needs_background": "light"
     },
     "output_type": "display_data"
    }
   ],
   "source": [
    "plot = sns.barplot(x = tmp.index, y = tmp['Total Crime'], color = 'blue').set_title(\"Total Crime Per Year (2010-2019)\")\n",
    "plot.set_position([plot.get_position().x0, \n",
    "                   plot.get_position().y0, \n",
    "                   plot.get_position().width*2, \n",
    "                   plot.get_position().height*2])\n",
    "plot"
   ]
  },
  {
   "cell_type": "markdown",
   "metadata": {},
   "source": [
    "<strong>Title:</strong> Barplot of Total Crime Per Year (2010-2019)<BR>\n",
    "<strong>X-Axis:</strong> Year<BR>\n",
    "<strong>Y-Axis:</strong> Total Crime<BR>\n",
    "<strong>Description:</strong> (Above) This bar plot alternatively can be used to show other aspects of the data in a easy to interpret form. One idea that can be used is whether or not crime should be exhibited in a standardized format. For example, using the percent of TFA per year may be a way to standardize the data, since not every year will have the same amount of crime. This bar graph clearly shows there is a peak in crime in 2014.<BR><BR>The barplot above indicates the frequency of theft from cars from the years 2010-2019.<BR>\n",
    "Based on our observations, the barplot shows some kind of positive relationship between time and the number of thefts from auto. As the years go by, the number of auto theft tends to increase. <BR><BR><BR>"
   ]
  },
  {
   "cell_type": "code",
   "execution_count": 24,
   "metadata": {},
   "outputs": [
    {
     "ename": "AttributeError",
     "evalue": "'tuple' object has no attribute 'x0'",
     "output_type": "error",
     "traceback": [
      "\u001b[1;31m---------------------------------------------------------------------------\u001b[0m",
      "\u001b[1;31mAttributeError\u001b[0m                            Traceback (most recent call last)",
      "\u001b[1;32m<ipython-input-24-aa5c7cef78cc>\u001b[0m in \u001b[0;36m<module>\u001b[1;34m\u001b[0m\n\u001b[0;32m      1\u001b[0m \u001b[0mplot\u001b[0m \u001b[1;33m=\u001b[0m \u001b[0msns\u001b[0m\u001b[1;33m.\u001b[0m\u001b[0mbarplot\u001b[0m\u001b[1;33m(\u001b[0m\u001b[0mx\u001b[0m \u001b[1;33m=\u001b[0m \u001b[0mtmp\u001b[0m\u001b[1;33m.\u001b[0m\u001b[0mindex\u001b[0m\u001b[1;33m,\u001b[0m \u001b[0my\u001b[0m \u001b[1;33m=\u001b[0m \u001b[0mtmp\u001b[0m\u001b[1;33m[\u001b[0m\u001b[1;34m'# of Theft From Auto'\u001b[0m\u001b[1;33m]\u001b[0m\u001b[1;33m,\u001b[0m \u001b[0mcolor\u001b[0m \u001b[1;33m=\u001b[0m \u001b[1;34m'blue'\u001b[0m\u001b[1;33m)\u001b[0m\u001b[1;33m.\u001b[0m\u001b[0mset_title\u001b[0m\u001b[1;33m(\u001b[0m\u001b[1;34m\"Amount of TFA per year (2010-2019)\"\u001b[0m\u001b[1;33m)\u001b[0m\u001b[1;33m\u001b[0m\u001b[1;33m\u001b[0m\u001b[0m\n\u001b[1;32m----> 2\u001b[1;33m plot.set_position([plot.get_position().x0, \n\u001b[0m\u001b[0;32m      3\u001b[0m                    \u001b[0mplot\u001b[0m\u001b[1;33m.\u001b[0m\u001b[0mget_position\u001b[0m\u001b[1;33m(\u001b[0m\u001b[1;33m)\u001b[0m\u001b[1;33m.\u001b[0m\u001b[0my0\u001b[0m\u001b[1;33m,\u001b[0m\u001b[1;33m\u001b[0m\u001b[1;33m\u001b[0m\u001b[0m\n\u001b[0;32m      4\u001b[0m                    \u001b[0mplot\u001b[0m\u001b[1;33m.\u001b[0m\u001b[0mget_position\u001b[0m\u001b[1;33m(\u001b[0m\u001b[1;33m)\u001b[0m\u001b[1;33m.\u001b[0m\u001b[0mwidth\u001b[0m\u001b[1;33m*\u001b[0m\u001b[1;36m2\u001b[0m\u001b[1;33m,\u001b[0m\u001b[1;33m\u001b[0m\u001b[1;33m\u001b[0m\u001b[0m\n\u001b[0;32m      5\u001b[0m                    plot.get_position().height*2])\n",
      "\u001b[1;31mAttributeError\u001b[0m: 'tuple' object has no attribute 'x0'"
     ]
    },
    {
     "data": {
      "image/png": "[encoded data removed]",
      "text/plain": [
       "<Figure size 432x288 with 1 Axes>"
      ]
     },
     "metadata": {
      "needs_background": "light"
     },
     "output_type": "display_data"
    }
   ],
   "source": [
    "plot = sns.barplot(x = tmp.index, y = tmp['# of Theft From Auto'], color = 'blue').set_title(\"Amount of TFA per year (2010-2019)\")\n",
    "plot.set_position([plot.get_position().x0, \n",
    "                   plot.get_position().y0, \n",
    "                   plot.get_position().width*2, \n",
    "                   plot.get_position().height*2])\n",
    "plot"
   ]
  },
  {
   "cell_type": "markdown",
   "metadata": {},
   "source": [
    "<strong>Title:</strong> Barplot of Amount of TFA per year (2010-2019)<BR>\n",
    "<strong>X-Axis:</strong> Year<BR>\n",
    "<strong>Y-Axis:</strong> Amount of TFA<BR>\n",
    "<strong>Description:</strong> (Above) This bar plot instead shows the number of TFA per year, instead of the percentage of TFA. Interpretations can easily be drawn from visuals such as bar graphs, scatterplots, histograms, violin plots, boxplots, and more. From this bar graph, we can see that the number of theft from auto is not always increasing each year. This may make it more difficult to predict. Also, keep in mind that police departments, are also aware of increasing trends, and may be proactive in running awareness campaigns to curb TFA. This could account for some of the decreases in TFA as seen in 2017 and 2019."
   ]
  },
  {
   "cell_type": "markdown",
   "metadata": {},
   "source": [
    "# Machine Learning Models\n",
    "\n",
    "# VISUALIZATION: Linear Regression\n",
    "\n",
    "For our exploratory data analysis, we will use a linear regression model for our hypothesis testing. The linear regression model is a very common technique used to make predictions based on a conditional relationship between two variables. When dealing with visual graphs relating to economics, you usually see this “line of best fit” that tells us the relationship between X and Y-variables. In data science, we call this “line of regression” or the “linear fit” as we regress X-variable on Y-variable. We will use a linear regression model to determine and predict the relationship between years from the crime dataset and the number of auto theft cases reported in those years. <BR><BR>\n",
    "A linear regression line model can be applied to the data for total crime. It appears that total crime has an overall increasing trend over the 2010-2019 time period."
   ]
  },
  {
   "cell_type": "code",
   "execution_count": 20,
   "metadata": {},
   "outputs": [
    {
     "ename": "AttributeError",
     "evalue": "'FacetGrid' object has no attribute 'set_title'",
     "output_type": "error",
     "traceback": [
      "\u001b[1;31m---------------------------------------------------------------------------\u001b[0m",
      "\u001b[1;31mAttributeError\u001b[0m                            Traceback (most recent call last)",
      "\u001b[1;32m<ipython-input-20-02f50618c25f>\u001b[0m in \u001b[0;36m<module>\u001b[1;34m\u001b[0m\n\u001b[0;32m      3\u001b[0m \u001b[0mplot\u001b[0m \u001b[1;33m=\u001b[0m \u001b[0msns\u001b[0m\u001b[1;33m.\u001b[0m\u001b[0mlmplot\u001b[0m\u001b[1;33m(\u001b[0m\u001b[0mx\u001b[0m \u001b[1;33m=\u001b[0m \u001b[1;34m'YEAR'\u001b[0m\u001b[1;33m,\u001b[0m \u001b[0my\u001b[0m \u001b[1;33m=\u001b[0m \u001b[1;34m'Total Crime'\u001b[0m\u001b[1;33m,\u001b[0m \u001b[0mdata\u001b[0m \u001b[1;33m=\u001b[0m \u001b[0mtmp1\u001b[0m\u001b[1;33m,\u001b[0m \u001b[0mci\u001b[0m\u001b[1;33m=\u001b[0m\u001b[1;32mTrue\u001b[0m\u001b[1;33m)\u001b[0m\u001b[1;33m\u001b[0m\u001b[1;33m\u001b[0m\u001b[0m\n\u001b[0;32m      4\u001b[0m \u001b[1;33m\u001b[0m\u001b[0m\n\u001b[1;32m----> 5\u001b[1;33m \u001b[0mplot\u001b[0m\u001b[1;33m.\u001b[0m\u001b[0mset_title\u001b[0m\u001b[1;33m(\u001b[0m\u001b[1;34m\"Linear Regression of Year vs Total Crime\"\u001b[0m\u001b[1;33m)\u001b[0m\u001b[1;33m\u001b[0m\u001b[1;33m\u001b[0m\u001b[0m\n\u001b[0m",
      "\u001b[1;31mAttributeError\u001b[0m: 'FacetGrid' object has no attribute 'set_title'"
     ]
    },
    {
     "data": {
      "image/png": "[encoded data removed]",
      "text/plain": [
       "<Figure size 360x360 with 1 Axes>"
      ]
     },
     "metadata": {
      "needs_background": "light"
     },
     "output_type": "display_data"
    }
   ],
   "source": [
    "tmp1 = tmp.copy()\n",
    "tmp1['YEAR'] = [2010,2011,2012,2013,2014,2015,2016,2017,2018,2019]\n",
    "plot = sns.lmplot(x = 'YEAR', y = 'Total Crime', data = tmp1, ci=True)\n",
    "\n",
    "plot"
   ]
  },
  {
   "cell_type": "markdown",
   "metadata": {},
   "source": [
    "(Below) Now we are going to add a new column \"YEAR\" to our dataset to organize and group each auto theft case into their own year based on their report date (REPORT_DAT)."
   ]
  },
  {
   "cell_type": "code",
   "execution_count": 10,
   "metadata": {
    "scrolled": true
   },
   "outputs": [],
   "source": [
    "df['YEAR'] = df['REPORT_DAT'].apply(lambda x: x.to_pydatetime().year)"
   ]
  },
  {
   "cell_type": "markdown",
   "metadata": {},
   "source": [
    "# VISUALIZATION: k-fold Cross-Validation\n",
    "\n",
    "In this section, we will perform a 10-fold cross-validation. K-fold cross-validation is used to check how accurate our machine learning model will be on predictions. It partitions our dataset into k folds or groups, which in this tutorial we will making 10 folds. Out of the k folds, one of them will be assigned as the test data, while the rest of the groups (k-1) are assigned as training data. For the k-1 groups, we model our training data to our test data to measure performance on the prediction. The process is then repeated for every group in k-1 folds.\n"
   ]
  },
  {
   "cell_type": "code",
   "execution_count": 13,
   "metadata": {
    "scrolled": true
   },
   "outputs": [
    {
     "ename": "AttributeError",
     "evalue": "'DataFrame' object has no attribute 'to_numpy'",
     "output_type": "error",
     "traceback": [
      "\u001b[1;31m---------------------------------------------------------------------------\u001b[0m",
      "\u001b[1;31mAttributeError\u001b[0m                            Traceback (most recent call last)",
      "\u001b[1;32m<ipython-input-13-58ca8b3dfc96>\u001b[0m in \u001b[0;36m<module>\u001b[1;34m\u001b[0m\n\u001b[1;32m----> 1\u001b[1;33m \u001b[0mX\u001b[0m \u001b[1;33m=\u001b[0m \u001b[0mdf1\u001b[0m\u001b[1;33m.\u001b[0m\u001b[0miloc\u001b[0m\u001b[1;33m[\u001b[0m\u001b[1;33m:\u001b[0m\u001b[1;33m,\u001b[0m\u001b[1;36m1\u001b[0m\u001b[1;33m:\u001b[0m\u001b[1;36m2\u001b[0m\u001b[1;33m]\u001b[0m\u001b[1;33m.\u001b[0m\u001b[0mto_numpy\u001b[0m\u001b[1;33m(\u001b[0m\u001b[1;33m)\u001b[0m\u001b[1;33m\u001b[0m\u001b[1;33m\u001b[0m\u001b[0m\n\u001b[0m\u001b[0;32m      2\u001b[0m \u001b[0my\u001b[0m \u001b[1;33m=\u001b[0m \u001b[0mdf1\u001b[0m\u001b[1;33m.\u001b[0m\u001b[0miloc\u001b[0m\u001b[1;33m[\u001b[0m\u001b[1;33m:\u001b[0m\u001b[1;33m,\u001b[0m\u001b[1;36m6\u001b[0m\u001b[1;33m:\u001b[0m\u001b[1;36m7\u001b[0m\u001b[1;33m]\u001b[0m\u001b[1;33m.\u001b[0m\u001b[0mto_numpy\u001b[0m\u001b[1;33m(\u001b[0m\u001b[1;33m)\u001b[0m\u001b[1;33m\u001b[0m\u001b[1;33m\u001b[0m\u001b[0m\n\u001b[0;32m      3\u001b[0m \u001b[0mkf\u001b[0m \u001b[1;33m=\u001b[0m \u001b[0mKFold\u001b[0m\u001b[1;33m(\u001b[0m\u001b[0mn_splits\u001b[0m\u001b[1;33m=\u001b[0m\u001b[1;36m10\u001b[0m\u001b[1;33m,\u001b[0m \u001b[0mshuffle\u001b[0m\u001b[1;33m=\u001b[0m\u001b[1;32mTrue\u001b[0m\u001b[1;33m)\u001b[0m\u001b[1;33m\u001b[0m\u001b[1;33m\u001b[0m\u001b[0m\n\u001b[0;32m      4\u001b[0m \u001b[0mkf\u001b[0m\u001b[1;33m.\u001b[0m\u001b[0mget_n_splits\u001b[0m\u001b[1;33m(\u001b[0m\u001b[0mX\u001b[0m\u001b[1;33m)\u001b[0m\u001b[1;33m\u001b[0m\u001b[1;33m\u001b[0m\u001b[0m\n\u001b[0;32m      5\u001b[0m \u001b[0mprint\u001b[0m\u001b[1;33m(\u001b[0m\u001b[0mkf\u001b[0m\u001b[1;33m)\u001b[0m\u001b[1;33m\u001b[0m\u001b[1;33m\u001b[0m\u001b[0m\n",
      "\u001b[1;32m~\\Miniconda3\\envs\\cmsc320\\lib\\site-packages\\pandas\\core\\generic.py\u001b[0m in \u001b[0;36m__getattr__\u001b[1;34m(self, name)\u001b[0m\n\u001b[0;32m   3612\u001b[0m             \u001b[1;32mif\u001b[0m \u001b[0mname\u001b[0m \u001b[1;32min\u001b[0m \u001b[0mself\u001b[0m\u001b[1;33m.\u001b[0m\u001b[0m_info_axis\u001b[0m\u001b[1;33m:\u001b[0m\u001b[1;33m\u001b[0m\u001b[1;33m\u001b[0m\u001b[0m\n\u001b[0;32m   3613\u001b[0m                 \u001b[1;32mreturn\u001b[0m \u001b[0mself\u001b[0m\u001b[1;33m[\u001b[0m\u001b[0mname\u001b[0m\u001b[1;33m]\u001b[0m\u001b[1;33m\u001b[0m\u001b[1;33m\u001b[0m\u001b[0m\n\u001b[1;32m-> 3614\u001b[1;33m             \u001b[1;32mreturn\u001b[0m \u001b[0mobject\u001b[0m\u001b[1;33m.\u001b[0m\u001b[0m__getattribute__\u001b[0m\u001b[1;33m(\u001b[0m\u001b[0mself\u001b[0m\u001b[1;33m,\u001b[0m \u001b[0mname\u001b[0m\u001b[1;33m)\u001b[0m\u001b[1;33m\u001b[0m\u001b[1;33m\u001b[0m\u001b[0m\n\u001b[0m\u001b[0;32m   3615\u001b[0m \u001b[1;33m\u001b[0m\u001b[0m\n\u001b[0;32m   3616\u001b[0m     \u001b[1;32mdef\u001b[0m \u001b[0m__setattr__\u001b[0m\u001b[1;33m(\u001b[0m\u001b[0mself\u001b[0m\u001b[1;33m,\u001b[0m \u001b[0mname\u001b[0m\u001b[1;33m,\u001b[0m \u001b[0mvalue\u001b[0m\u001b[1;33m)\u001b[0m\u001b[1;33m:\u001b[0m\u001b[1;33m\u001b[0m\u001b[1;33m\u001b[0m\u001b[0m\n",
      "\u001b[1;31mAttributeError\u001b[0m: 'DataFrame' object has no attribute 'to_numpy'"
     ]
    }
   ],
   "source": [
    "X = df1.iloc[:,1:2].to_numpy()\n",
    "y = df1.iloc[:,6:7].to_numpy()\n",
    "kf = KFold(n_splits=10, shuffle=True)\n",
    "kf.get_n_splits(X)\n",
    "print(kf)  "
   ]
  },
  {
   "cell_type": "code",
   "execution_count": 14,
   "metadata": {},
   "outputs": [
    {
     "ename": "NameError",
     "evalue": "name 'kf' is not defined",
     "output_type": "error",
     "traceback": [
      "\u001b[1;31m---------------------------------------------------------------------------\u001b[0m",
      "\u001b[1;31mNameError\u001b[0m                                 Traceback (most recent call last)",
      "\u001b[1;32m<ipython-input-14-b2bee8253328>\u001b[0m in \u001b[0;36m<module>\u001b[1;34m\u001b[0m\n\u001b[0;32m      1\u001b[0m \u001b[0mk\u001b[0m \u001b[1;33m=\u001b[0m \u001b[1;36m1\u001b[0m\u001b[1;33m\u001b[0m\u001b[1;33m\u001b[0m\u001b[0m\n\u001b[1;32m----> 2\u001b[1;33m \u001b[1;32mfor\u001b[0m \u001b[0mtrain_index\u001b[0m\u001b[1;33m,\u001b[0m \u001b[0mtest_index\u001b[0m \u001b[1;32min\u001b[0m \u001b[0mkf\u001b[0m\u001b[1;33m.\u001b[0m\u001b[0msplit\u001b[0m\u001b[1;33m(\u001b[0m\u001b[0mX\u001b[0m\u001b[1;33m)\u001b[0m\u001b[1;33m:\u001b[0m\u001b[1;33m\u001b[0m\u001b[1;33m\u001b[0m\u001b[0m\n\u001b[0m\u001b[0;32m      3\u001b[0m     \u001b[0mX_train\u001b[0m\u001b[1;33m,\u001b[0m \u001b[0mX_test\u001b[0m \u001b[1;33m=\u001b[0m \u001b[0mX\u001b[0m\u001b[1;33m[\u001b[0m\u001b[0mtrain_index\u001b[0m\u001b[1;33m]\u001b[0m\u001b[1;33m,\u001b[0m \u001b[0mX\u001b[0m\u001b[1;33m[\u001b[0m\u001b[0mtest_index\u001b[0m\u001b[1;33m]\u001b[0m\u001b[1;33m\u001b[0m\u001b[1;33m\u001b[0m\u001b[0m\n\u001b[0;32m      4\u001b[0m     \u001b[0my_train\u001b[0m\u001b[1;33m,\u001b[0m \u001b[0my_test\u001b[0m \u001b[1;33m=\u001b[0m \u001b[0my\u001b[0m\u001b[1;33m[\u001b[0m\u001b[0mtrain_index\u001b[0m\u001b[1;33m]\u001b[0m\u001b[1;33m,\u001b[0m \u001b[0my\u001b[0m\u001b[1;33m[\u001b[0m\u001b[0mtest_index\u001b[0m\u001b[1;33m]\u001b[0m\u001b[1;33m\u001b[0m\u001b[1;33m\u001b[0m\u001b[0m\n\u001b[0;32m      5\u001b[0m     \u001b[0mclf\u001b[0m \u001b[1;33m=\u001b[0m \u001b[0mneighbors\u001b[0m\u001b[1;33m.\u001b[0m\u001b[0mKNeighborsClassifier\u001b[0m\u001b[1;33m(\u001b[0m\u001b[0mk\u001b[0m\u001b[1;33m,\u001b[0m \u001b[0mweights\u001b[0m\u001b[1;33m=\u001b[0m\u001b[1;34m'uniform'\u001b[0m\u001b[1;33m)\u001b[0m\u001b[1;33m\u001b[0m\u001b[1;33m\u001b[0m\u001b[0m\n",
      "\u001b[1;31mNameError\u001b[0m: name 'kf' is not defined"
     ]
    }
   ],
   "source": [
    "k = 1\n",
    "for train_index, test_index in kf.split(X):\n",
    "    X_train, X_test = X[train_index], X[test_index]\n",
    "    y_train, y_test = y[train_index], y[test_index]\n",
    "    clf = neighbors.KNeighborsClassifier(k, weights='uniform')\n",
    "    clf.fit(X_train, y_train)\n",
    "    k = k + 1\n",
    "    Z = clf.predict(X_test)\n",
    "    y_test = np.ravel(y_test)\n",
    "    print(str(k-1) + \" neighbors: \" + str(sklearn.metrics.zero_one_loss(y_test,Z)))"
   ]
  },
  {
   "cell_type": "markdown",
   "metadata": {},
   "source": [
    "### Random Forest Model\n",
    "\n",
    "We will be using a random forest model to present our data. Random forest models are excellent at predicting performance and reducing instability by averaging multiple decision trees (also known as Classification tree). This means using a random forest model will provide us a more accurate prediction table. As we know decision trees produce an outcome that is categorical. It predicts where training data will fall into by spliting partitions based on a single attribute. With a random forest model, we can make an average and predict which data point would fall into which category."
   ]
  },
  {
   "cell_type": "markdown",
   "metadata": {},
   "source": [
    "# Conclusion\n",
    "\n",
    "### Measures of Uncertainty\n",
    "Estimates with uncertainty, this can be accomplished by using standard deviation, variance, standard error. In linear regression, the standard error was computed to a total value to show us a quantity we could use to compare how accurate our linear regression model. If we were to use another type of linear regression model that was based on different attributes, their standard errors could be compared to see which model is better. Even if one model is better than another, it still may not be able to reject the null hypothesis.\n",
    "\n",
    "### Hypothesis Testing\n",
    "Earlier, we stated the hypothesis we wanted to test, of which the null hypothesis would be: We cannot predict TFA in 2020.<BR>\n",
    "The hypothesis we want to test is 'Can we predict TFA in 2020' based on the DC crime data 2010-2019.\n",
    "The p-value we will use to compare if our results are significant is 0.05. Since our p-value is greater than 0.05, our results are not significant, and therefore we cannot reject the null hypothesis. We must accept the null hypothesis that we cannot predict TFA in 2020. \n",
    "   <BR>Experiments need a way to test if the result is significant or not. The p-value is a measure of statistical significance, but it is not always accurate. In experiments, it is important not to go back and manipulate the data once we know the results of the experiment, which could be considered p-hacking, which is when a researcher attempts to obtain a p-value result that is significant before submitting their results/research.<BR>\n",
    "According to our k-fold Cross Validation results, there is high error and therefore we cannot predict the data as our p value is much greater than (and therefore NOT less than or equal to)  p-value of 0.05.\n",
    "\n",
    "### Ideas for Other Experiments \n",
    "Many people in DC generally do not own cars since it is difficult to park, and there are a lot of other options for transportation. Since many people commute to DC, DC must have a maximum capacity for cars. This could potentially cap the value of TFA per year. Other interesting topics to research could be the population of DC, the portion of the population owning cars in DC, workers commuting to DC and parking in DC, and comparing the time of day for the highest amount of TFAs.\n"
   ]
  },
  {
   "cell_type": "markdown",
   "metadata": {},
   "source": [
    "high error, cannot predict"
   ]
  },
  {
   "cell_type": "markdown",
   "metadata": {},
   "source": [
    "<strong>References:</strong><BR>\n",
    "How to Prevent Theft From Autos. (2020, May 17). City of Cincinnati. https://www.cincinnati-oh.gov/police/community-involvement/how-to-prevent-theft-from-autos/ \n",
    "<BR>Moser, W. (2012, Jan 27). Why Are There So Many Gang Members in Chicago? Chicago Magazine. https://www.chicagomag.com/Chicago-Magazine/The-312/January-2012/Why-Are-There-So-Many-Gang-Members-in-Chicago/\n",
    "<BR>Kennedy, S. (2020, Feb 7). 'The Wire' Is Finished, but Baltimore Still Bleeds. Wall Street Journal. https://www.wsj.com/articles/the-wire-is-finished-but-baltimore-still-bleeds-11581119104\n",
    "<BR>DC Atlas. (2020). Crime Cards. Metropolitan Police Department. https://dcatlas.dcgis.dc.gov/crimecards/ \n",
    "<BR>Taylor, D. (2018, Feb 20). The Patch. https://patch.com/district-columbia/washingtondc/dc-americas-16th-most-dangerous-city \n",
    "<BR>    \n",
    "<BR><strong>Interesting Links:</strong>\n",
    "<BR>Grawert A., and Kimble, C. (2019, Dec 18). Takeaways from 2019 Crime Data in Major American Cities https://www.brennancenter.org/our-work/analysis-opinion/takeaways-2019-crime-data-major-american-cities\n",
    "<BR>Madhani, A. (2018, Feb 19). USA Today. Baltimore is the nation's most dangerous big city. https://www.usatoday.com/story/news/2018/02/19/homicides-toll-big-u-s-cities-2017/302763002/\n",
    "<BR>Best Places. (2020). 2020 Compare Crime Rates: Washington, DC vs Baltimore, MD. https://www.bestplaces.net/crime/?city1=51150000&city2=52404000 \n",
    "<BR>The Disaster Center. (2007). US States Crime 2004 -2005 Crimes per 100,000 and Ranking. http://www.disastercenter.com/crime/US_States_Rate_Ranking.html  \n",
    "    "
   ]
  },
  {
   "cell_type": "code",
   "execution_count": null,
   "metadata": {},
   "outputs": [],
   "source": []
  }
 ],
 "metadata": {
  "kernelspec": {
   "display_name": "Python 3",
   "language": "python",
   "name": "python3"
  },
  "language_info": {
   "codemirror_mode": {
    "name": "ipython",
    "version": 3
   },
   "file_extension": ".py",
   "mimetype": "text/x-python",
   "name": "python",
   "nbconvert_exporter": "python",
   "pygments_lexer": "ipython3",
   "version": "3.7.6"
  }
 },
 "nbformat": 4,
 "nbformat_minor": 4
}
